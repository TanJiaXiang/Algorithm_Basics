{
 "cells": [
  {
   "cell_type": "markdown",
   "metadata": {},
   "source": [
    "# 函数"
   ]
  },
  {
   "cell_type": "markdown",
   "metadata": {},
   "source": [
    "函数：程序里面的一个子程序。\n",
    "\n",
    "函数**基本思想**：写一个语句序列，并给这个序列取一个名字，然后可以通过引用函数名称，在程序中的任何位置执行这些指令。"
   ]
  },
  {
   "cell_type": "markdown",
   "metadata": {},
   "source": [
    "![](./DEF.png)"
   ]
  },
  {
   "cell_type": "code",
   "execution_count": 1,
   "metadata": {
    "ExecuteTime": {
     "end_time": "2019-05-05T17:03:49.345781Z",
     "start_time": "2019-05-05T17:03:49.339787Z"
    }
   },
   "outputs": [],
   "source": [
    "def happy():\n",
    "\tprint(\"Happy birthday to you!\")"
   ]
  },
  {
   "cell_type": "code",
   "execution_count": 2,
   "metadata": {
    "ExecuteTime": {
     "end_time": "2019-05-05T17:03:58.134395Z",
     "start_time": "2019-05-05T17:03:58.087420Z"
    }
   },
   "outputs": [
    {
     "name": "stdout",
     "output_type": "stream",
     "text": [
      "Happy birthday to you!\n"
     ]
    }
   ],
   "source": [
    "happy()"
   ]
  },
  {
   "cell_type": "code",
   "execution_count": 8,
   "metadata": {
    "ExecuteTime": {
     "end_time": "2019-05-05T17:07:30.092375Z",
     "start_time": "2019-05-05T17:07:30.079383Z"
    }
   },
   "outputs": [
    {
     "name": "stdout",
     "output_type": "stream",
     "text": [
      "Happy birthday to you!\n",
      "Happy birthday to you!\n",
      "Happy birthday ,dear 小张.\n",
      "Happy birthday to you!\n"
     ]
    }
   ],
   "source": [
    "for i in range(4):\n",
    "    if i==2:\n",
    "        print(\"Happy birthday ,dear 小张.\")\n",
    "    else:\n",
    "        happy()"
   ]
  },
  {
   "cell_type": "code",
   "execution_count": 9,
   "metadata": {
    "ExecuteTime": {
     "end_time": "2019-05-05T17:08:09.163410Z",
     "start_time": "2019-05-05T17:08:09.137425Z"
    }
   },
   "outputs": [
    {
     "name": "stdout",
     "output_type": "stream",
     "text": [
      "Happy birthday to you!\n",
      "Happy birthday to you!\n",
      "Happy birthday ,dear 小Li.\n",
      "Happy birthday to you!\n"
     ]
    }
   ],
   "source": [
    "for i in range(4):\n",
    "    if i==2:\n",
    "        print(\"Happy birthday ,dear 小Li.\")\n",
    "    else:\n",
    "        happy()"
   ]
  },
  {
   "cell_type": "code",
   "execution_count": 11,
   "metadata": {
    "ExecuteTime": {
     "end_time": "2019-05-05T17:09:19.567224Z",
     "start_time": "2019-05-05T17:09:19.558233Z"
    }
   },
   "outputs": [],
   "source": [
    "def sing(person):\n",
    "\thappy()\n",
    "\thappy()\n",
    "\tprint(\"Happy Birthday, dear\", person + \".\")\n",
    "\thappy()"
   ]
  },
  {
   "cell_type": "code",
   "execution_count": 13,
   "metadata": {
    "ExecuteTime": {
     "end_time": "2019-05-05T17:09:59.011026Z",
     "start_time": "2019-05-05T17:09:59.003031Z"
    }
   },
   "outputs": [
    {
     "name": "stdout",
     "output_type": "stream",
     "text": [
      "Happy birthday to you!\n",
      "Happy birthday to you!\n",
      "Happy Birthday, dear li.\n",
      "Happy birthday to you!\n"
     ]
    }
   ],
   "source": [
    "sing(\"li\")"
   ]
  },
  {
   "cell_type": "markdown",
   "metadata": {},
   "source": [
    "# 类"
   ]
  },
  {
   "cell_type": "markdown",
   "metadata": {},
   "source": [
    "    假如你开了一家玩具厂，专门生产各种动物玩具。有一天，你接到了一个批量制作鸭子玩具的订单..."
   ]
  },
  {
   "cell_type": "code",
   "execution_count": 14,
   "metadata": {
    "ExecuteTime": {
     "end_time": "2019-05-05T17:13:59.790956Z",
     "start_time": "2019-05-05T17:13:59.769968Z"
    }
   },
   "outputs": [
    {
     "name": "stdout",
     "output_type": "stream",
     "text": [
      "鸭子嘴巴制作完毕\n",
      "鸭耳朵制作完毕\n",
      "鸭眼睛制作完毕\n",
      "鸭头制作完毕\n",
      "鸭翅膀制作完毕\n",
      "鸭身体制作完毕\n",
      "鸭脚制作完毕\n",
      "鸭子组装完毕\n"
     ]
    }
   ],
   "source": [
    "def makeDuckMoth():\n",
    "    #这里可以放其他制作细节\n",
    "    print('鸭子嘴巴制作完毕')\n",
    "def makeDuckEar():\n",
    "    #这里可以放其他制作细节\n",
    "    print('鸭耳朵制作完毕')\n",
    "def makeDuckEye():\n",
    "    #这里可以放其他制作细节\n",
    "    print('鸭眼睛制作完毕')\n",
    "def makeDuckHead():\n",
    "    #这里可以放其他制作细节\n",
    "    print('鸭头制作完毕')\n",
    "def makeDuckWing():\n",
    "    #这里可以放其他制作细节\n",
    "    print('鸭翅膀制作完毕')\n",
    "def makeDuckBody():\n",
    "    #这里可以放其他制作细节\n",
    "    print('鸭身体制作完毕')\n",
    "def makeDuckFoot():\n",
    "    #这里可以放其他制作细节\n",
    "    print('鸭脚制作完毕')\n",
    "def makeDuckMerge():\n",
    "    #这里可以放其他制作细节\n",
    "    print('鸭子组装完毕')\n",
    "makeDuckMoth() #制作鸭嘴巴\n",
    "makeDuckEar() #制作鸭耳朵\n",
    "makeDuckEye() #制作鸭眼睛\n",
    "makeDuckHead() #制作鸭头\n",
    "makeDuckWing()  #制作鸭翅膀，注意，有些动物是没有翅膀的\n",
    "makeDuckBody() #制作鸭身体\n",
    "makeDuckFoot() #制作鸭脚\n",
    "makeDuckMerge() #合并鸭子的各个部位，组装成最终鸭子"
   ]
  },
  {
   "cell_type": "code",
   "execution_count": 15,
   "metadata": {
    "ExecuteTime": {
     "end_time": "2019-05-05T17:14:59.190517Z",
     "start_time": "2019-05-05T17:14:59.168537Z"
    }
   },
   "outputs": [
    {
     "name": "stdout",
     "output_type": "stream",
     "text": [
      "猪嘴巴制作完毕\n",
      "猪耳朵制作完毕\n",
      "猪眼睛制作完毕\n",
      "猪头制作完毕\n",
      "猪身体制作完毕\n",
      "4只猪脚制作完毕\n",
      "猪组装完毕\n"
     ]
    }
   ],
   "source": [
    "def makePigMoth():\n",
    "    #这里可以放其他制作细节\n",
    "    print('猪嘴巴制作完毕')\n",
    "def makePigEar():\n",
    "    #这里可以放其他制作细节\n",
    "    print('猪耳朵制作完毕')\n",
    "def makePigEye():\n",
    "    #这里可以放其他制作细节\n",
    "    print('猪眼睛制作完毕')\n",
    "def makePigHead():\n",
    "    #这里可以放其他制作细节\n",
    "    print('猪头制作完毕')\n",
    "def makePigBody():\n",
    "    #这里可以放其他制作细节\n",
    "    print('猪身体制作完毕')\n",
    "def makePigHand():\n",
    "    #这里可以放其他制作细节\n",
    "    print('猪手制作完毕')\n",
    "def makePigFoot():\n",
    "    #这里可以放其他制作细节\n",
    "    print('4只猪脚制作完毕')\n",
    "def makePigMerge():\n",
    "    #这里可以放其他制作细节\n",
    "    print('猪组装完毕')\n",
    "makePigMoth() #制作猪嘴巴\n",
    "makePigEar() #制作猪耳朵\n",
    "makePigEye() #制作猪眼睛\n",
    "makePigHead() #制作猪头\n",
    "makePigBody() #制作猪身体\n",
    "makePigFoot() #制作4只猪脚\n",
    "makePigMerge() #合并猪的各个部位，组装成最终猪"
   ]
  },
  {
   "cell_type": "markdown",
   "metadata": {},
   "source": [
    "类，相当于一个基因制造图纸"
   ]
  },
  {
   "cell_type": "code",
   "execution_count": 16,
   "metadata": {
    "ExecuteTime": {
     "end_time": "2019-05-05T17:18:41.215327Z",
     "start_time": "2019-05-05T17:18:41.197338Z"
    }
   },
   "outputs": [],
   "source": [
    "class Animal(object):\n",
    "    '''\n",
    "    猪和鸭子的基类（基因图纸表）\n",
    "    '''\n",
    "    def __init__(self, name): #实例化的时候传入要制作东西名字，如猪、鸭子\n",
    "        self.name = name \n",
    "    def makeMoth(self):\n",
    "        #这里可以放其他制作细节  \n",
    "        print(self.name+'的嘴巴 制作完毕') #这里的self.name就是获取我们传入的name\n",
    "    def makeEar(self):\n",
    "        #这里可以放其他制作细节  \n",
    "        print(self.name+'的耳朵 制作完毕') \n",
    "    def makeEye(self):\n",
    "        #这里可以放其他制作细节  \n",
    "        print(self.name+'的眼睛 制作完毕') \n",
    "    def makeHead(self):\n",
    "        #这里可以放其他制作细节  \n",
    "        print(self.name+'的头 制作完毕') \n",
    "    def makeBody(self):\n",
    "        #这里可以放其他制作细节  \n",
    "        print(self.name+'的身体 制作完毕') \n",
    "    def makeFoot(self):\n",
    "        #这里可以放其他制作细节  \n",
    "        print(self.name+'的脚 制作完毕') \n",
    "    def makeMerge(self):\n",
    "        #这里可以放其他制作细节  \n",
    "        print(self.name+'合并完毕') \n",
    "    def makeAll(self): \n",
    "        # 一条龙。直接跑完整个流水线\n",
    "        self.makeMoth()\n",
    "        self.makeEar()\n",
    "        self.makeEye()\n",
    "        self.makeHead()\n",
    "        self.makeBody()\n",
    "        self.makeFoot()\n",
    "        self.makeMerge()"
   ]
  },
  {
   "cell_type": "code",
   "execution_count": 17,
   "metadata": {
    "ExecuteTime": {
     "end_time": "2019-05-05T17:20:13.254870Z",
     "start_time": "2019-05-05T17:20:13.239877Z"
    }
   },
   "outputs": [],
   "source": [
    "class Pig(Animal):  # 括号里写Animal，意思是Pig继承Animal的所有特性\n",
    "    def makeMoth(self):\n",
    "        #这里加详细的猪嘴巴制作流程，如长嘴巴，有两个孔  \n",
    "        print(self.name+'的嘴巴 制作完毕') \n",
    "    def makeEar(self):\n",
    "        #耳朵大大的\n",
    "        print(self.name+'的耳朵 制作完毕') \n",
    "    def makeEye(self):\n",
    "        #眼睛小小的 \n",
    "        print(self.name+'的眼睛 制作完毕') \n",
    "    def makeHead(self):\n",
    "        #很大的头 \n",
    "        print(self.name+'的头 制作完毕') \n",
    "    def makeBody(self):\n",
    "        #略 \n",
    "        print(self.name+'的身体 制作完毕') \n",
    "    def makeFoot(self):\n",
    "        #略  \n",
    "        print(self.name+'的脚 制作完毕') \n",
    "    def makeMerge(self):\n",
    "        #略  \n",
    "        print(self.name+'合并完毕')"
   ]
  },
  {
   "cell_type": "code",
   "execution_count": 18,
   "metadata": {
    "ExecuteTime": {
     "end_time": "2019-05-05T17:20:20.439467Z",
     "start_time": "2019-05-05T17:20:20.410480Z"
    }
   },
   "outputs": [
    {
     "name": "stdout",
     "output_type": "stream",
     "text": [
      "猪的嘴巴 制作完毕\n",
      "猪的耳朵 制作完毕\n",
      "猪的眼睛 制作完毕\n",
      "猪的头 制作完毕\n",
      "猪的身体 制作完毕\n",
      "猪的脚 制作完毕\n",
      "猪合并完毕\n"
     ]
    }
   ],
   "source": [
    "pig1 = Pig('猪')  #实例化\n",
    "pig1.makeAll()  # 开始造猪"
   ]
  },
  {
   "cell_type": "code",
   "execution_count": null,
   "metadata": {},
   "outputs": [],
   "source": []
  }
 ],
 "metadata": {
  "kernelspec": {
   "display_name": "Python 3",
   "language": "python",
   "name": "python3"
  },
  "language_info": {
   "codemirror_mode": {
    "name": "ipython",
    "version": 3
   },
   "file_extension": ".py",
   "mimetype": "text/x-python",
   "name": "python",
   "nbconvert_exporter": "python",
   "pygments_lexer": "ipython3",
   "version": "3.7.3"
  },
  "toc": {
   "base_numbering": 1,
   "nav_menu": {},
   "number_sections": true,
   "sideBar": true,
   "skip_h1_title": false,
   "title_cell": "Table of Contents",
   "title_sidebar": "Contents",
   "toc_cell": false,
   "toc_position": {},
   "toc_section_display": true,
   "toc_window_display": false
  }
 },
 "nbformat": 4,
 "nbformat_minor": 2
}
